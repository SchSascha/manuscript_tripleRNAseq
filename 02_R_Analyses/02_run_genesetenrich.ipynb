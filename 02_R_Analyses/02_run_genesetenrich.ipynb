{
 "cells": [
  {
   "cell_type": "markdown",
   "metadata": {},
   "source": [
    "# Gene Set Enrichment - ORA - SetRank"
   ]
  },
  {
   "cell_type": "code",
   "execution_count": null,
   "metadata": {},
   "outputs": [],
   "source": []
  },
  {
   "cell_type": "code",
   "execution_count": 1,
   "metadata": {},
   "outputs": [
    {
     "name": "stderr",
     "output_type": "stream",
     "text": [
      "── \u001b[1mAttaching packages\u001b[22m ─────────────────────────────────────── tidyverse 1.2.1 ──\n",
      "\u001b[32m✔\u001b[39m \u001b[34mggplot2\u001b[39m 3.1.1     \u001b[32m✔\u001b[39m \u001b[34mpurrr  \u001b[39m 0.2.5\n",
      "\u001b[32m✔\u001b[39m \u001b[34mtibble \u001b[39m 1.4.2     \u001b[32m✔\u001b[39m \u001b[34mdplyr  \u001b[39m 0.7.6\n",
      "\u001b[32m✔\u001b[39m \u001b[34mtidyr  \u001b[39m 0.8.2     \u001b[32m✔\u001b[39m \u001b[34mstringr\u001b[39m 1.4.0\n",
      "\u001b[32m✔\u001b[39m \u001b[34mreadr  \u001b[39m 1.3.1     \u001b[32m✔\u001b[39m \u001b[34mforcats\u001b[39m 0.4.0\n",
      "── \u001b[1mConflicts\u001b[22m ────────────────────────────────────────── tidyverse_conflicts() ──\n",
      "\u001b[31m✖\u001b[39m \u001b[34mdplyr\u001b[39m::\u001b[32marrange()\u001b[39m   masks \u001b[34mplyr\u001b[39m::arrange()\n",
      "\u001b[31m✖\u001b[39m \u001b[34mpurrr\u001b[39m::\u001b[32mcompact()\u001b[39m   masks \u001b[34mplyr\u001b[39m::compact()\n",
      "\u001b[31m✖\u001b[39m \u001b[34mdplyr\u001b[39m::\u001b[32mcount()\u001b[39m     masks \u001b[34mplyr\u001b[39m::count()\n",
      "\u001b[31m✖\u001b[39m \u001b[34mdplyr\u001b[39m::\u001b[32mfailwith()\u001b[39m  masks \u001b[34mplyr\u001b[39m::failwith()\n",
      "\u001b[31m✖\u001b[39m \u001b[34mdplyr\u001b[39m::\u001b[32mfilter()\u001b[39m    masks \u001b[34mstats\u001b[39m::filter()\n",
      "\u001b[31m✖\u001b[39m \u001b[34mdplyr\u001b[39m::\u001b[32mid()\u001b[39m        masks \u001b[34mplyr\u001b[39m::id()\n",
      "\u001b[31m✖\u001b[39m \u001b[34mdplyr\u001b[39m::\u001b[32mlag()\u001b[39m       masks \u001b[34mstats\u001b[39m::lag()\n",
      "\u001b[31m✖\u001b[39m \u001b[34mdplyr\u001b[39m::\u001b[32mmutate()\u001b[39m    masks \u001b[34mplyr\u001b[39m::mutate()\n",
      "\u001b[31m✖\u001b[39m \u001b[34mdplyr\u001b[39m::\u001b[32mrename()\u001b[39m    masks \u001b[34mplyr\u001b[39m::rename()\n",
      "\u001b[31m✖\u001b[39m \u001b[34mdplyr\u001b[39m::\u001b[32msummarise()\u001b[39m masks \u001b[34mplyr\u001b[39m::summarise()\n",
      "\u001b[31m✖\u001b[39m \u001b[34mdplyr\u001b[39m::\u001b[32msummarize()\u001b[39m masks \u001b[34mplyr\u001b[39m::summarize()\n",
      "Loading required package: stats4\n",
      "Loading required package: BiocGenerics\n",
      "Loading required package: parallel\n",
      "\n",
      "Attaching package: ‘BiocGenerics’\n",
      "\n",
      "The following objects are masked from ‘package:parallel’:\n",
      "\n",
      "    clusterApply, clusterApplyLB, clusterCall, clusterEvalQ,\n",
      "    clusterExport, clusterMap, parApply, parCapply, parLapply,\n",
      "    parLapplyLB, parRapply, parSapply, parSapplyLB\n",
      "\n",
      "The following objects are masked from ‘package:dplyr’:\n",
      "\n",
      "    combine, intersect, setdiff, union\n",
      "\n",
      "The following objects are masked from ‘package:stats’:\n",
      "\n",
      "    IQR, mad, sd, var, xtabs\n",
      "\n",
      "The following objects are masked from ‘package:base’:\n",
      "\n",
      "    anyDuplicated, append, as.data.frame, basename, cbind, colMeans,\n",
      "    colnames, colSums, dirname, do.call, duplicated, eval, evalq,\n",
      "    Filter, Find, get, grep, grepl, intersect, is.unsorted, lapply,\n",
      "    lengths, Map, mapply, match, mget, order, paste, pmax, pmax.int,\n",
      "    pmin, pmin.int, Position, rank, rbind, Reduce, rowMeans, rownames,\n",
      "    rowSums, sapply, setdiff, sort, table, tapply, union, unique,\n",
      "    unsplit, which, which.max, which.min\n",
      "\n",
      "Loading required package: Biobase\n",
      "Welcome to Bioconductor\n",
      "\n",
      "    Vignettes contain introductory material; view with\n",
      "    'browseVignettes()'. To cite Bioconductor, see\n",
      "    'citation(\"Biobase\")', and for packages 'citation(\"pkgname\")'.\n",
      "\n",
      "Loading required package: IRanges\n",
      "Loading required package: S4Vectors\n",
      "\n",
      "Attaching package: ‘S4Vectors’\n",
      "\n",
      "The following objects are masked from ‘package:dplyr’:\n",
      "\n",
      "    first, rename\n",
      "\n",
      "The following object is masked from ‘package:tidyr’:\n",
      "\n",
      "    expand\n",
      "\n",
      "The following object is masked from ‘package:plyr’:\n",
      "\n",
      "    rename\n",
      "\n",
      "The following object is masked from ‘package:base’:\n",
      "\n",
      "    expand.grid\n",
      "\n",
      "\n",
      "Attaching package: ‘IRanges’\n",
      "\n",
      "The following objects are masked from ‘package:dplyr’:\n",
      "\n",
      "    collapse, desc, slice\n",
      "\n",
      "The following object is masked from ‘package:purrr’:\n",
      "\n",
      "    reduce\n",
      "\n",
      "The following object is masked from ‘package:plyr’:\n",
      "\n",
      "    desc\n",
      "\n",
      "\n",
      "Attaching package: ‘AnnotationDbi’\n",
      "\n",
      "The following object is masked from ‘package:dplyr’:\n",
      "\n",
      "    select\n",
      "\n"
     ]
    }
   ],
   "source": [
    "library(\"gage\")\n",
    "library(\"plyr\")\n",
    "library(\"SetRank\")\n",
    "library(\"GeneSets.Homo.sapiens\")\n",
    "library(\"tidyverse\")\n",
    "#library(\"parallel\")\n",
    "library(\"AnnotationDbi\")"
   ]
  },
  {
   "cell_type": "code",
   "execution_count": null,
   "metadata": {},
   "outputs": [],
   "source": []
  },
  {
   "cell_type": "code",
   "execution_count": 2,
   "metadata": {},
   "outputs": [],
   "source": [
    "options(mc.cores=20)"
   ]
  },
  {
   "cell_type": "markdown",
   "metadata": {},
   "source": [
    "## Load Gene sets"
   ]
  },
  {
   "cell_type": "code",
   "execution_count": 3,
   "metadata": {},
   "outputs": [],
   "source": [
    "datDir <- \"../results/DEG_overlaps/\""
   ]
  },
  {
   "cell_type": "code",
   "execution_count": 4,
   "metadata": {},
   "outputs": [],
   "source": [
    "deg_res_sp1 <- readRDS(file.path(datDir, \"deg_res_sp1.rds\")) # DC\n",
    "deg_res_sp2 <- readRDS(file.path(datDir, \"deg_res_sp2.rds\")) # AFU\n",
    "deg_res_sp3 <- readRDS(file.path(datDir, \"deg_res_sp3.rds\")) # CMV"
   ]
  },
  {
   "cell_type": "code",
   "execution_count": 5,
   "metadata": {},
   "outputs": [],
   "source": [
    "l <- list.files(datDir, \"*.rds\", full.names = T)\n",
    "l <- grep(\"deg_res\", l, value = T, invert = T)\n",
    "gene_sets <- lapply(l, function(x) readRDS(x))"
   ]
  },
  {
   "cell_type": "code",
   "execution_count": 6,
   "metadata": {},
   "outputs": [
    {
     "data": {
      "text/html": [
       "<ol class=list-inline>\n",
       "\t<li>'AFU-SingleCulture_Afu_0h'</li>\n",
       "\t<li>'AFU-SingleCulture_Afu_4.5h'</li>\n",
       "\t<li>'AFU-SingleCulture_Afu-all'</li>\n",
       "\t<li>'CMV-coinfection_VS_singleinfection'</li>\n",
       "\t<li>'DC-AFu_vs_CMV_vs_Both'</li>\n",
       "\t<li>'DC-All_AFu'</li>\n",
       "\t<li>'DC-All_CMV'</li>\n",
       "\t<li>'DC-All_intersect'</li>\n",
       "\t<li>'DC-SingleCulture_DC-all'</li>\n",
       "\t<li>'DC-SingleCulture_DC-Coinfection'</li>\n",
       "\t<li>'DC-SingleCulture_DC-SingleInfection'</li>\n",
       "</ol>\n"
      ],
      "text/latex": [
       "\\begin{enumerate*}\n",
       "\\item 'AFU-SingleCulture\\_Afu\\_0h'\n",
       "\\item 'AFU-SingleCulture\\_Afu\\_4.5h'\n",
       "\\item 'AFU-SingleCulture\\_Afu-all'\n",
       "\\item 'CMV-coinfection\\_VS\\_singleinfection'\n",
       "\\item 'DC-AFu\\_vs\\_CMV\\_vs\\_Both'\n",
       "\\item 'DC-All\\_AFu'\n",
       "\\item 'DC-All\\_CMV'\n",
       "\\item 'DC-All\\_intersect'\n",
       "\\item 'DC-SingleCulture\\_DC-all'\n",
       "\\item 'DC-SingleCulture\\_DC-Coinfection'\n",
       "\\item 'DC-SingleCulture\\_DC-SingleInfection'\n",
       "\\end{enumerate*}\n"
      ],
      "text/markdown": [
       "1. 'AFU-SingleCulture_Afu_0h'\n",
       "2. 'AFU-SingleCulture_Afu_4.5h'\n",
       "3. 'AFU-SingleCulture_Afu-all'\n",
       "4. 'CMV-coinfection_VS_singleinfection'\n",
       "5. 'DC-AFu_vs_CMV_vs_Both'\n",
       "6. 'DC-All_AFu'\n",
       "7. 'DC-All_CMV'\n",
       "8. 'DC-All_intersect'\n",
       "9. 'DC-SingleCulture_DC-all'\n",
       "10. 'DC-SingleCulture_DC-Coinfection'\n",
       "11. 'DC-SingleCulture_DC-SingleInfection'\n",
       "\n",
       "\n"
      ],
      "text/plain": [
       " [1] \"AFU-SingleCulture_Afu_0h\"            \"AFU-SingleCulture_Afu_4.5h\"         \n",
       " [3] \"AFU-SingleCulture_Afu-all\"           \"CMV-coinfection_VS_singleinfection\" \n",
       " [5] \"DC-AFu_vs_CMV_vs_Both\"               \"DC-All_AFu\"                         \n",
       " [7] \"DC-All_CMV\"                          \"DC-All_intersect\"                   \n",
       " [9] \"DC-SingleCulture_DC-all\"             \"DC-SingleCulture_DC-Coinfection\"    \n",
       "[11] \"DC-SingleCulture_DC-SingleInfection\""
      ]
     },
     "metadata": {},
     "output_type": "display_data"
    }
   ],
   "source": [
    "cond <- basename(l)\n",
    "cond <- sub(\"\\\\.rds\", \"\", cond)\n",
    "cond"
   ]
  },
  {
   "cell_type": "code",
   "execution_count": 7,
   "metadata": {},
   "outputs": [],
   "source": [
    "names(gene_sets) <- cond"
   ]
  },
  {
   "cell_type": "code",
   "execution_count": null,
   "metadata": {},
   "outputs": [],
   "source": []
  },
  {
   "cell_type": "code",
   "execution_count": null,
   "metadata": {},
   "outputs": [],
   "source": []
  },
  {
   "cell_type": "markdown",
   "metadata": {},
   "source": [
    "## Build Background"
   ]
  },
  {
   "cell_type": "code",
   "execution_count": 8,
   "metadata": {},
   "outputs": [],
   "source": [
    "refset_from_deg_tables <- function(df) sapply(df$DEGs, rownames) %>% unlist %>% unique"
   ]
  },
  {
   "cell_type": "code",
   "execution_count": 9,
   "metadata": {},
   "outputs": [],
   "source": [
    "calc_background <- function(refGeneSet, saveFile, maxSetSize = 500) {\n",
    "    collection = buildSetCollection(BIOCYC, GOMF, GOBP, KEGG, referenceSet = refGeneSet, maxSetSize = 500)\n",
    "    save(collection, file = saveFile)\n",
    "    return(collection)\n",
    "}"
   ]
  },
  {
   "cell_type": "code",
   "execution_count": 10,
   "metadata": {},
   "outputs": [],
   "source": [
    "dc.refGeneSet <- refset_from_deg_tables(deg_res_sp1)\n",
    "afu.refGeneSet <- refset_from_deg_tables(deg_res_sp2)\n",
    "cmv.refGeneSet <- refset_from_deg_tables(deg_res_sp3)"
   ]
  },
  {
   "cell_type": "code",
   "execution_count": null,
   "metadata": {},
   "outputs": [],
   "source": [
    "# Convert to entrez identifiers\n",
    "dc.ensembl2EntrezID = createIDConverter(\"org.Hs.eg.db\", \"ENSEMBL\", \"ENTREZID\")\n",
    "dc.refGeneSet.entrez = dc.ensembl2EntrezID(dc.refGeneSet)\n",
    "head(dc.refGeneSet.entrez)"
   ]
  },
  {
   "cell_type": "code",
   "execution_count": 28,
   "metadata": {},
   "outputs": [],
   "source": [
    "#head(allDBs, n = 1)"
   ]
  },
  {
   "cell_type": "code",
   "execution_count": 14,
   "metadata": {},
   "outputs": [
    {
     "data": {
      "text/html": [
       "<ol class=list-inline>\n",
       "\t<li>'allDBs'</li>\n",
       "\t<li>'BIOCYC'</li>\n",
       "\t<li>'GOBP'</li>\n",
       "\t<li>'GOCC'</li>\n",
       "\t<li>'GOMF'</li>\n",
       "\t<li>'KEGG'</li>\n",
       "\t<li>'Pathway_Interaction_Database'</li>\n",
       "\t<li>'REACTOME'</li>\n",
       "\t<li>'WikiPathways'</li>\n",
       "</ol>\n"
      ],
      "text/latex": [
       "\\begin{enumerate*}\n",
       "\\item 'allDBs'\n",
       "\\item 'BIOCYC'\n",
       "\\item 'GOBP'\n",
       "\\item 'GOCC'\n",
       "\\item 'GOMF'\n",
       "\\item 'KEGG'\n",
       "\\item 'Pathway\\_Interaction\\_Database'\n",
       "\\item 'REACTOME'\n",
       "\\item 'WikiPathways'\n",
       "\\end{enumerate*}\n"
      ],
      "text/markdown": [
       "1. 'allDBs'\n",
       "2. 'BIOCYC'\n",
       "3. 'GOBP'\n",
       "4. 'GOCC'\n",
       "5. 'GOMF'\n",
       "6. 'KEGG'\n",
       "7. 'Pathway_Interaction_Database'\n",
       "8. 'REACTOME'\n",
       "9. 'WikiPathways'\n",
       "\n",
       "\n"
      ],
      "text/plain": [
       "[1] \"allDBs\"                       \"BIOCYC\"                      \n",
       "[3] \"GOBP\"                         \"GOCC\"                        \n",
       "[5] \"GOMF\"                         \"KEGG\"                        \n",
       "[7] \"Pathway_Interaction_Database\" \"REACTOME\"                    \n",
       "[9] \"WikiPathways\"                "
      ]
     },
     "metadata": {},
     "output_type": "display_data"
    }
   ],
   "source": [
    "ls(\"package:GeneSets.Homo.sapiens\")"
   ]
  },
  {
   "cell_type": "code",
   "execution_count": 13,
   "metadata": {},
   "outputs": [],
   "source": [
    "#dc.collection <- calc_background(dc.refGeneSet.entrez, \"../results/GeneSetEnrichment/dc.collection.500.rda\")\n",
    "load(\"../results/GeneSetEnrichment/dc.collection.500.rda\")\n",
    "dc.collection <- collection"
   ]
  },
  {
   "cell_type": "code",
   "execution_count": null,
   "metadata": {},
   "outputs": [],
   "source": []
  },
  {
   "cell_type": "markdown",
   "metadata": {},
   "source": [
    "## Calc RankSets"
   ]
  },
  {
   "cell_type": "code",
   "execution_count": 68,
   "metadata": {},
   "outputs": [],
   "source": [
    "calc_rank_set <- function(geneSet,  idconverter.in, collection) {\n",
    "    # remove terminal '-', '+' symbols and convert to entrez\n",
    "    geneSet <- geneSet %>% gsub(\".$\", \"\", .) %>% idconverter.in\n",
    "    rankSet <- setRankAnalysis(geneSet, collection, use.ranks = T, setPCutoff = 0.01, fdrCutoff = 0.05)\n",
    "    \n",
    "    return(list(rankSet = rankSet, geneSet = geneSet))\n",
    "}\n",
    "\n",
    "write_out_rankset <- function(l, outDir, pref, idconverter.out, collection) {\n",
    "    options(warn = -1)\n",
    "    exportSingleResult(l$rankSet, l$geneSet, collection, pref, IDConverter = idconverter.out, outputPath = outDir)\n",
    "    options(warn = 0)\n",
    "}"
   ]
  },
  {
   "cell_type": "code",
   "execution_count": 16,
   "metadata": {},
   "outputs": [],
   "source": [
    "is_dc <- gene_sets %>% names %>% grepl(\"DC\", .)\n",
    "dc.gene_sets <- gene_sets[is_dc]"
   ]
  },
  {
   "cell_type": "code",
   "execution_count": 24,
   "metadata": {},
   "outputs": [
    {
     "data": {
      "text/html": [
       "<ol class=list-inline>\n",
       "\t<li>'DC-AFu_vs_CMV_vs_Both'</li>\n",
       "\t<li>'DC-All_AFu'</li>\n",
       "\t<li>'DC-All_CMV'</li>\n",
       "\t<li>'DC-All_intersect'</li>\n",
       "\t<li>'DC-SingleCulture_DC-all'</li>\n",
       "\t<li>'DC-SingleCulture_DC-Coinfection'</li>\n",
       "\t<li>'DC-SingleCulture_DC-SingleInfection'</li>\n",
       "</ol>\n"
      ],
      "text/latex": [
       "\\begin{enumerate*}\n",
       "\\item 'DC-AFu\\_vs\\_CMV\\_vs\\_Both'\n",
       "\\item 'DC-All\\_AFu'\n",
       "\\item 'DC-All\\_CMV'\n",
       "\\item 'DC-All\\_intersect'\n",
       "\\item 'DC-SingleCulture\\_DC-all'\n",
       "\\item 'DC-SingleCulture\\_DC-Coinfection'\n",
       "\\item 'DC-SingleCulture\\_DC-SingleInfection'\n",
       "\\end{enumerate*}\n"
      ],
      "text/markdown": [
       "1. 'DC-AFu_vs_CMV_vs_Both'\n",
       "2. 'DC-All_AFu'\n",
       "3. 'DC-All_CMV'\n",
       "4. 'DC-All_intersect'\n",
       "5. 'DC-SingleCulture_DC-all'\n",
       "6. 'DC-SingleCulture_DC-Coinfection'\n",
       "7. 'DC-SingleCulture_DC-SingleInfection'\n",
       "\n",
       "\n"
      ],
      "text/plain": [
       "[1] \"DC-AFu_vs_CMV_vs_Both\"               \"DC-All_AFu\"                         \n",
       "[3] \"DC-All_CMV\"                          \"DC-All_intersect\"                   \n",
       "[5] \"DC-SingleCulture_DC-all\"             \"DC-SingleCulture_DC-Coinfection\"    \n",
       "[7] \"DC-SingleCulture_DC-SingleInfection\""
      ]
     },
     "metadata": {},
     "output_type": "display_data"
    }
   ],
   "source": [
    "names(dc.gene_sets)"
   ]
  },
  {
   "cell_type": "code",
   "execution_count": null,
   "metadata": {},
   "outputs": [],
   "source": []
  },
  {
   "cell_type": "markdown",
   "metadata": {},
   "source": [
    "Define all sets of interest"
   ]
  },
  {
   "cell_type": "code",
   "execution_count": 60,
   "metadata": {},
   "outputs": [
    {
     "data": {
      "text/html": [
       "'SingleInfection_CMV_0h:SingleInfection_CMV_2h'"
      ],
      "text/latex": [
       "'SingleInfection\\_CMV\\_0h:SingleInfection\\_CMV\\_2h'"
      ],
      "text/markdown": [
       "'SingleInfection_CMV_0h:SingleInfection_CMV_2h'"
      ],
      "text/plain": [
       "[1] \"SingleInfection_CMV_0h:SingleInfection_CMV_2h\""
      ]
     },
     "metadata": {},
     "output_type": "display_data"
    },
    {
     "data": {
      "text/html": [
       "'SingleInfection_Afu_4h30min:SingleInfection_Afu_0h'"
      ],
      "text/latex": [
       "'SingleInfection\\_Afu\\_4h30min:SingleInfection\\_Afu\\_0h'"
      ],
      "text/markdown": [
       "'SingleInfection_Afu_4h30min:SingleInfection_Afu_0h'"
      ],
      "text/plain": [
       "[1] \"SingleInfection_Afu_4h30min:SingleInfection_Afu_0h\""
      ]
     },
     "metadata": {},
     "output_type": "display_data"
    },
    {
     "data": {
      "text/html": [
       "'SingleInfection_Afu_4h30min:SingleInfection_Afu_0h:CoInfection_CMV_first:CoInfection:CoInfection_Afu_first'"
      ],
      "text/latex": [
       "'SingleInfection\\_Afu\\_4h30min:SingleInfection\\_Afu\\_0h:CoInfection\\_CMV\\_first:CoInfection:CoInfection\\_Afu\\_first'"
      ],
      "text/markdown": [
       "'SingleInfection_Afu_4h30min:SingleInfection_Afu_0h:CoInfection_CMV_first:CoInfection:CoInfection_Afu_first'"
      ],
      "text/plain": [
       "[1] \"SingleInfection_Afu_4h30min:SingleInfection_Afu_0h:CoInfection_CMV_first:CoInfection:CoInfection_Afu_first\""
      ]
     },
     "metadata": {},
     "output_type": "display_data"
    },
    {
     "data": {
      "text/html": [
       "'SingleInfection_CMV_0h:SingleInfection_CMV_2h:CoInfection_CMV_first:CoInfection:CoInfection_Afu_first'"
      ],
      "text/latex": [
       "'SingleInfection\\_CMV\\_0h:SingleInfection\\_CMV\\_2h:CoInfection\\_CMV\\_first:CoInfection:CoInfection\\_Afu\\_first'"
      ],
      "text/markdown": [
       "'SingleInfection_CMV_0h:SingleInfection_CMV_2h:CoInfection_CMV_first:CoInfection:CoInfection_Afu_first'"
      ],
      "text/plain": [
       "[1] \"SingleInfection_CMV_0h:SingleInfection_CMV_2h:CoInfection_CMV_first:CoInfection:CoInfection_Afu_first\""
      ]
     },
     "metadata": {},
     "output_type": "display_data"
    },
    {
     "data": {
      "text/html": [
       "'CoInfection_CMV_first:CoInfection:CoInfection_Afu_first'"
      ],
      "text/latex": [
       "'CoInfection\\_CMV\\_first:CoInfection:CoInfection\\_Afu\\_first'"
      ],
      "text/markdown": [
       "'CoInfection_CMV_first:CoInfection:CoInfection_Afu_first'"
      ],
      "text/plain": [
       "[1] \"CoInfection_CMV_first:CoInfection:CoInfection_Afu_first\""
      ]
     },
     "metadata": {},
     "output_type": "display_data"
    }
   ],
   "source": [
    "dc.sets_of_interest <- list()\n",
    "# Which are present regardless of pathogen and growth\n",
    "item <- \"SingleInfection_CMV_0h:SingleInfection_Afu_4h30min:SingleInfection_Afu_0h:SingleInfection_CMV_2h:CoInfection_CMV_first:CoInfection:CoInfection_Afu_first\"\n",
    "dc.sets_of_interest$intersect <- dc.gene_sets[['DC-SingleCulture_DC-all']][[item]]\n",
    "\n",
    "# Which is specific for single infection CMV - independent of time\n",
    "item <- dc.gene_sets[['DC-SingleCulture_DC-all']] %>% {names(.) == 'SingleInfection_CMV_0h:SingleInfection_CMV_2h'} %>% which\n",
    "names(dc.gene_sets[['DC-SingleCulture_DC-all']])[[item]]\n",
    "dc.sets_of_interest$si_cmv <- dc.gene_sets[['DC-SingleCulture_DC-all']][[item]]\n",
    "\n",
    "# Which is specific for signle infection AFU - independent of time\n",
    "item <- dc.gene_sets[['DC-SingleCulture_DC-all']] %>% {names(.) == 'SingleInfection_Afu_4h30min:SingleInfection_Afu_0h'} %>% which\n",
    "names(dc.gene_sets[['DC-SingleCulture_DC-all']])[[item]]\n",
    "dc.sets_of_interest$si_afu <- dc.gene_sets[['DC-SingleCulture_DC-all']][[item]]\n",
    "\n",
    "# Which is specific for AFU - independent of time and single/co\n",
    "item <- dc.gene_sets[['DC-SingleCulture_DC-all']] %>% {names(.) == 'SingleInfection_Afu_4h30min:SingleInfection_Afu_0h:CoInfection_CMV_first:CoInfection:CoInfection_Afu_first'} %>% which\n",
    "names(dc.gene_sets[['DC-SingleCulture_DC-all']])[[item]]\n",
    "dc.sets_of_interest$si_co_afu <- dc.gene_sets[['DC-SingleCulture_DC-all']][[item]]\n",
    "\n",
    "# Which is specific for CMV - independent of time and single/co\n",
    "item <- dc.gene_sets[['DC-SingleCulture_DC-all']] %>% {names(.) == 'SingleInfection_CMV_0h:SingleInfection_CMV_2h:CoInfection_CMV_first:CoInfection:CoInfection_Afu_first'} %>% which\n",
    "names(dc.gene_sets[['DC-SingleCulture_DC-all']])[[item]]\n",
    "dc.sets_of_interest$si_co_cmv <- dc.gene_sets[['DC-SingleCulture_DC-all']][[item]]\n",
    "\n",
    "# Which is specific for coinfection - independent of type and time\n",
    "item <- dc.gene_sets[['DC-SingleCulture_DC-all']] %>% {names(.) == 'CoInfection_CMV_first:CoInfection:CoInfection_Afu_first'} %>% which\n",
    "names(dc.gene_sets[['DC-SingleCulture_DC-all']])[[item]]\n",
    "dc.sets_of_interest$co_union <- dc.gene_sets[['DC-SingleCulture_DC-all']][[item]]"
   ]
  },
  {
   "cell_type": "code",
   "execution_count": null,
   "metadata": {},
   "outputs": [],
   "source": [
    "dc.entrezID2ensembl = createIDConverter(\"org.Hs.eg.db\", \"ENTREZID\", \"ENSEMBL\")\n",
    "dc.entrezID2symbol = createIDConverter(\"org.Hs.eg.db\", \"ENTREZID\", \"SYMBOL\")"
   ]
  },
  {
   "cell_type": "code",
   "execution_count": null,
   "metadata": {},
   "outputs": [],
   "source": [
    "dc.ranksets_of_interest <- lapply(1:length(dc.sets_of_interest), function(i) {\n",
    "    print(paste0(\"Calc: \", names(dc.sets_of_interest)[i]))\n",
    "    res <- calc_rank_set(dc.sets_of_interest[[i]],\n",
    "                          dc.ensembl2EntrezID,\n",
    "                          dc.collection)\n",
    "    return(res)\n",
    "})"
   ]
  },
  {
   "cell_type": "code",
   "execution_count": null,
   "metadata": {},
   "outputs": [],
   "source": [
    "saveRDS(dc.ranksets_of_interest, \"../results/GeneSetEnrichment/dc.ranksets_of_interest.rds\")"
   ]
  },
  {
   "cell_type": "code",
   "execution_count": null,
   "metadata": {},
   "outputs": [],
   "source": [
    "# write out 2:length(dc.ranksets_of_interest)\n",
    "for (i in 1:length(dc.ranksets_of_interest)) {\n",
    "    write_out_rankset(l      = dc.ranksets_of_interest[[i]],\n",
    "                      outDir = paste0(\"../results/GeneSetEnrichment/DC-\", names(dc.sets_of_interest)[[i]]),\n",
    "                      pref   = paste0(\"DC-\", names(dc.sets_of_interest)[i]),\n",
    "                      idconverter.out = dc.entrezID2symbol,\n",
    "                      collection = dc.collection)\n",
    "}\n",
    "\n",
    "#for (i in 1:length(dc.ranksets_of_interest)) {\n",
    "#    write_out_rankset(l      = dc.ranksets_of_interest[[i]],\n",
    "#                      outDir = paste0(\"../results/GeneSetEnrichment/DC-\", names(dc.sets_of_interest)[[i]]),\n",
    "#                      pref   = paste0(\"DC-\", names(dc.sets_of_interest)[i]),\n",
    "#                      idconverter.out = NULL,\n",
    "#                      collection = dc.collection)\n",
    "#}"
   ]
  },
  {
   "cell_type": "code",
   "execution_count": null,
   "metadata": {},
   "outputs": [],
   "source": []
  },
  {
   "cell_type": "code",
   "execution_count": null,
   "metadata": {},
   "outputs": [],
   "source": []
  },
  {
   "cell_type": "code",
   "execution_count": null,
   "metadata": {},
   "outputs": [],
   "source": []
  },
  {
   "cell_type": "markdown",
   "metadata": {},
   "source": [
    "# Score Based - GAGE"
   ]
  },
  {
   "cell_type": "code",
   "execution_count": 1,
   "metadata": {},
   "outputs": [
    {
     "name": "stderr",
     "output_type": "stream",
     "text": [
      "Loading required package: stats4\n",
      "Loading required package: BiocGenerics\n",
      "Loading required package: parallel\n",
      "\n",
      "Attaching package: ‘BiocGenerics’\n",
      "\n",
      "The following objects are masked from ‘package:parallel’:\n",
      "\n",
      "    clusterApply, clusterApplyLB, clusterCall, clusterEvalQ,\n",
      "    clusterExport, clusterMap, parApply, parCapply, parLapply,\n",
      "    parLapplyLB, parRapply, parSapply, parSapplyLB\n",
      "\n",
      "The following objects are masked from ‘package:stats’:\n",
      "\n",
      "    IQR, mad, sd, var, xtabs\n",
      "\n",
      "The following objects are masked from ‘package:base’:\n",
      "\n",
      "    anyDuplicated, append, as.data.frame, basename, cbind, colMeans,\n",
      "    colnames, colSums, dirname, do.call, duplicated, eval, evalq,\n",
      "    Filter, Find, get, grep, grepl, intersect, is.unsorted, lapply,\n",
      "    lengths, Map, mapply, match, mget, order, paste, pmax, pmax.int,\n",
      "    pmin, pmin.int, Position, rank, rbind, Reduce, rowMeans, rownames,\n",
      "    rowSums, sapply, setdiff, sort, table, tapply, union, unique,\n",
      "    unsplit, which, which.max, which.min\n",
      "\n",
      "Loading required package: Biobase\n",
      "Welcome to Bioconductor\n",
      "\n",
      "    Vignettes contain introductory material; view with\n",
      "    'browseVignettes()'. To cite Bioconductor, see\n",
      "    'citation(\"Biobase\")', and for packages 'citation(\"pkgname\")'.\n",
      "\n",
      "Loading required package: IRanges\n",
      "Loading required package: S4Vectors\n",
      "\n",
      "Attaching package: ‘S4Vectors’\n",
      "\n",
      "The following object is masked from ‘package:plyr’:\n",
      "\n",
      "    rename\n",
      "\n",
      "The following object is masked from ‘package:base’:\n",
      "\n",
      "    expand.grid\n",
      "\n",
      "\n",
      "Attaching package: ‘IRanges’\n",
      "\n",
      "The following object is masked from ‘package:plyr’:\n",
      "\n",
      "    desc\n",
      "\n",
      "── Attaching packages ─────────────────────────────────────── tidyverse 1.2.1 ──\n",
      "✔ ggplot2 3.1.0     ✔ purrr   0.2.5\n",
      "✔ tibble  1.4.2     ✔ dplyr   0.7.6\n",
      "✔ tidyr   0.8.2     ✔ stringr 1.3.1\n",
      "✔ readr   1.1.1     ✔ forcats 0.3.0\n",
      "── Conflicts ────────────────────────────────────────── tidyverse_conflicts() ──\n",
      "✖ dplyr::arrange()    masks plyr::arrange()\n",
      "✖ dplyr::collapse()   masks IRanges::collapse()\n",
      "✖ dplyr::combine()    masks Biobase::combine(), BiocGenerics::combine()\n",
      "✖ purrr::compact()    masks plyr::compact()\n",
      "✖ dplyr::count()      masks plyr::count()\n",
      "✖ dplyr::desc()       masks IRanges::desc(), plyr::desc()\n",
      "✖ tidyr::expand()     masks S4Vectors::expand()\n",
      "✖ dplyr::failwith()   masks plyr::failwith()\n",
      "✖ dplyr::filter()     masks stats::filter()\n",
      "✖ dplyr::first()      masks S4Vectors::first()\n",
      "✖ purrr::flatten()    masks jsonlite::flatten()\n",
      "✖ dplyr::id()         masks plyr::id()\n",
      "✖ dplyr::lag()        masks stats::lag()\n",
      "✖ dplyr::mutate()     masks plyr::mutate()\n",
      "✖ ggplot2::Position() masks BiocGenerics::Position(), base::Position()\n",
      "✖ purrr::reduce()     masks IRanges::reduce()\n",
      "✖ dplyr::rename()     masks S4Vectors::rename(), plyr::rename()\n",
      "✖ dplyr::select()     masks AnnotationDbi::select()\n",
      "✖ dplyr::slice()      masks IRanges::slice()\n",
      "✖ dplyr::summarise()  masks plyr::summarise()\n",
      "✖ dplyr::summarize()  masks plyr::summarize()\n"
     ]
    }
   ],
   "source": [
    "library(\"gage\")\n",
    "library(\"plyr\")\n",
    "library(\"AnnotationDbi\")\n",
    "library(\"tidyverse\")"
   ]
  },
  {
   "cell_type": "markdown",
   "metadata": {},
   "source": [
    "## Load Data"
   ]
  },
  {
   "cell_type": "code",
   "execution_count": 2,
   "metadata": {},
   "outputs": [],
   "source": [
    "data(kegg.gs)"
   ]
  },
  {
   "cell_type": "code",
   "execution_count": 25,
   "metadata": {},
   "outputs": [],
   "source": [
    "kegg.gs.ez <- kegg.gsets(species = \"hsa\", id.type = \"entrez\", check.new = T)"
   ]
  },
  {
   "cell_type": "code",
   "execution_count": 11,
   "metadata": {},
   "outputs": [
    {
     "data": {
      "text/html": [
       "<table>\n",
       "<thead><tr><th></th><th scope=col>id</th><th scope=col>mean_A_mrn</th><th scope=col>mean_B_mrn</th><th scope=col>log2_fc_mrn</th><th scope=col>mean_A_tpm</th><th scope=col>mean_B_tpm</th><th scope=col>log2_fc_tpm</th><th scope=col>mean_A_rpkm</th><th scope=col>mean_B_rpkm</th><th scope=col>fc_rpkm</th><th scope=col>log2_fc_rpkm</th><th scope=col>DESeq</th><th scope=col>DESeq_adj_pval</th><th scope=col>DESeq2</th><th scope=col>DESeq2_adj_pval</th><th scope=col>Limma</th><th scope=col>Limma_adj_pval</th><th scope=col>EdgeR</th><th scope=col>EdgeR_adj_pval</th></tr></thead>\n",
       "<tbody>\n",
       "\t<tr><th scope=row>ENSG00000223972</th><td>ENSG00000223972</td><td>1.000000       </td><td>1.199687       </td><td>-0.26265771    </td><td>1.000000       </td><td>1.018014       </td><td>-0.02575758    </td><td>1.000000       </td><td>1.023355       </td><td>0.9771776      </td><td>-0.033307329   </td><td>FALSE          </td><td>1              </td><td>FALSE          </td><td>1              </td><td>FALSE          </td><td>0.9874010      </td><td>FALSE          </td><td>1              </td></tr>\n",
       "\t<tr><th scope=row>ENSG00000227232</th><td>ENSG00000227232</td><td>1.255064       </td><td>2.966155       </td><td>-1.24083310    </td><td>1.037465       </td><td>1.233370       </td><td>-0.24954211    </td><td>1.028688       </td><td>1.267397       </td><td>0.8116544      </td><td>-0.301062466   </td><td>FALSE          </td><td>1              </td><td>FALSE          </td><td>1              </td><td>FALSE          </td><td>0.8208995      </td><td>FALSE          </td><td>1              </td></tr>\n",
       "\t<tr><th scope=row>ENSG00000278267</th><td>ENSG00000278267</td><td>1.582591       </td><td>2.309256       </td><td>-0.54513968    </td><td>2.056217       </td><td>4.026953       </td><td>-0.96969638    </td><td>2.626953       </td><td>4.568267       </td><td>0.5750437      </td><td>-0.798256599   </td><td>FALSE          </td><td>1              </td><td>FALSE          </td><td>1              </td><td>FALSE          </td><td>0.8894456      </td><td>FALSE          </td><td>1              </td></tr>\n",
       "\t<tr><th scope=row>ENSG00000268903</th><td>ENSG00000268903</td><td>1.529228       </td><td>1.000000       </td><td> 0.61280314    </td><td>1.046827       </td><td>1.000000       </td><td> 0.06602323    </td><td>1.076426       </td><td>1.000000       </td><td>1.0764256      </td><td> 0.106248558   </td><td>FALSE          </td><td>1              </td><td>FALSE          </td><td>1              </td><td>FALSE          </td><td>0.5106635      </td><td>FALSE          </td><td>1              </td></tr>\n",
       "\t<tr><th scope=row>ENSG00000241860</th><td>ENSG00000241860</td><td>1.343090       </td><td>1.000000       </td><td> 0.42555599    </td><td>1.013434       </td><td>1.000000       </td><td> 0.01925248    </td><td>1.012234       </td><td>1.000000       </td><td>1.0122344      </td><td> 0.017543404   </td><td>FALSE          </td><td>1              </td><td>FALSE          </td><td>1              </td><td>FALSE          </td><td>0.5106635      </td><td>FALSE          </td><td>1              </td></tr>\n",
       "\t<tr><th scope=row>ENSG00000279928</th><td>ENSG00000279928</td><td>1.171545       </td><td>1.199687       </td><td>-0.03424534    </td><td>1.073005       </td><td>1.054832       </td><td> 0.02464223    </td><td>1.066484       </td><td>1.071091       </td><td>0.9956993      </td><td>-0.006217947   </td><td>FALSE          </td><td>1              </td><td>FALSE          </td><td>1              </td><td>FALSE          </td><td>0.8894456      </td><td>FALSE          </td><td>1              </td></tr>\n",
       "</tbody>\n",
       "</table>\n"
      ],
      "text/latex": [
       "\\begin{tabular}{r|lllllllllllllllllll}\n",
       "  & id & mean\\_A\\_mrn & mean\\_B\\_mrn & log2\\_fc\\_mrn & mean\\_A\\_tpm & mean\\_B\\_tpm & log2\\_fc\\_tpm & mean\\_A\\_rpkm & mean\\_B\\_rpkm & fc\\_rpkm & log2\\_fc\\_rpkm & DESeq & DESeq\\_adj\\_pval & DESeq2 & DESeq2\\_adj\\_pval & Limma & Limma\\_adj\\_pval & EdgeR & EdgeR\\_adj\\_pval\\\\\n",
       "\\hline\n",
       "\tENSG00000223972 & ENSG00000223972 & 1.000000        & 1.199687        & -0.26265771     & 1.000000        & 1.018014        & -0.02575758     & 1.000000        & 1.023355        & 0.9771776       & -0.033307329    & FALSE           & 1               & FALSE           & 1               & FALSE           & 0.9874010       & FALSE           & 1              \\\\\n",
       "\tENSG00000227232 & ENSG00000227232 & 1.255064        & 2.966155        & -1.24083310     & 1.037465        & 1.233370        & -0.24954211     & 1.028688        & 1.267397        & 0.8116544       & -0.301062466    & FALSE           & 1               & FALSE           & 1               & FALSE           & 0.8208995       & FALSE           & 1              \\\\\n",
       "\tENSG00000278267 & ENSG00000278267 & 1.582591        & 2.309256        & -0.54513968     & 2.056217        & 4.026953        & -0.96969638     & 2.626953        & 4.568267        & 0.5750437       & -0.798256599    & FALSE           & 1               & FALSE           & 1               & FALSE           & 0.8894456       & FALSE           & 1              \\\\\n",
       "\tENSG00000268903 & ENSG00000268903 & 1.529228        & 1.000000        &  0.61280314     & 1.046827        & 1.000000        &  0.06602323     & 1.076426        & 1.000000        & 1.0764256       &  0.106248558    & FALSE           & 1               & FALSE           & 1               & FALSE           & 0.5106635       & FALSE           & 1              \\\\\n",
       "\tENSG00000241860 & ENSG00000241860 & 1.343090        & 1.000000        &  0.42555599     & 1.013434        & 1.000000        &  0.01925248     & 1.012234        & 1.000000        & 1.0122344       &  0.017543404    & FALSE           & 1               & FALSE           & 1               & FALSE           & 0.5106635       & FALSE           & 1              \\\\\n",
       "\tENSG00000279928 & ENSG00000279928 & 1.171545        & 1.199687        & -0.03424534     & 1.073005        & 1.054832        &  0.02464223     & 1.066484        & 1.071091        & 0.9956993       & -0.006217947    & FALSE           & 1               & FALSE           & 1               & FALSE           & 0.8894456       & FALSE           & 1              \\\\\n",
       "\\end{tabular}\n"
      ],
      "text/markdown": [
       "\n",
       "| <!--/--> | id | mean_A_mrn | mean_B_mrn | log2_fc_mrn | mean_A_tpm | mean_B_tpm | log2_fc_tpm | mean_A_rpkm | mean_B_rpkm | fc_rpkm | log2_fc_rpkm | DESeq | DESeq_adj_pval | DESeq2 | DESeq2_adj_pval | Limma | Limma_adj_pval | EdgeR | EdgeR_adj_pval | \n",
       "|---|---|---|---|---|---|\n",
       "| ENSG00000223972 | ENSG00000223972 | 1.000000        | 1.199687        | -0.26265771     | 1.000000        | 1.018014        | -0.02575758     | 1.000000        | 1.023355        | 0.9771776       | -0.033307329    | FALSE           | 1               | FALSE           | 1               | FALSE           | 0.9874010       | FALSE           | 1               | \n",
       "| ENSG00000227232 | ENSG00000227232 | 1.255064        | 2.966155        | -1.24083310     | 1.037465        | 1.233370        | -0.24954211     | 1.028688        | 1.267397        | 0.8116544       | -0.301062466    | FALSE           | 1               | FALSE           | 1               | FALSE           | 0.8208995       | FALSE           | 1               | \n",
       "| ENSG00000278267 | ENSG00000278267 | 1.582591        | 2.309256        | -0.54513968     | 2.056217        | 4.026953        | -0.96969638     | 2.626953        | 4.568267        | 0.5750437       | -0.798256599    | FALSE           | 1               | FALSE           | 1               | FALSE           | 0.8894456       | FALSE           | 1               | \n",
       "| ENSG00000268903 | ENSG00000268903 | 1.529228        | 1.000000        |  0.61280314     | 1.046827        | 1.000000        |  0.06602323     | 1.076426        | 1.000000        | 1.0764256       |  0.106248558    | FALSE           | 1               | FALSE           | 1               | FALSE           | 0.5106635       | FALSE           | 1               | \n",
       "| ENSG00000241860 | ENSG00000241860 | 1.343090        | 1.000000        |  0.42555599     | 1.013434        | 1.000000        |  0.01925248     | 1.012234        | 1.000000        | 1.0122344       |  0.017543404    | FALSE           | 1               | FALSE           | 1               | FALSE           | 0.5106635       | FALSE           | 1               | \n",
       "| ENSG00000279928 | ENSG00000279928 | 1.171545        | 1.199687        | -0.03424534     | 1.073005        | 1.054832        |  0.02464223     | 1.066484        | 1.071091        | 0.9956993       | -0.006217947    | FALSE           | 1               | FALSE           | 1               | FALSE           | 0.8894456       | FALSE           | 1               | \n",
       "\n",
       "\n"
      ],
      "text/plain": [
       "                id              mean_A_mrn mean_B_mrn log2_fc_mrn mean_A_tpm\n",
       "ENSG00000223972 ENSG00000223972 1.000000   1.199687   -0.26265771 1.000000  \n",
       "ENSG00000227232 ENSG00000227232 1.255064   2.966155   -1.24083310 1.037465  \n",
       "ENSG00000278267 ENSG00000278267 1.582591   2.309256   -0.54513968 2.056217  \n",
       "ENSG00000268903 ENSG00000268903 1.529228   1.000000    0.61280314 1.046827  \n",
       "ENSG00000241860 ENSG00000241860 1.343090   1.000000    0.42555599 1.013434  \n",
       "ENSG00000279928 ENSG00000279928 1.171545   1.199687   -0.03424534 1.073005  \n",
       "                mean_B_tpm log2_fc_tpm mean_A_rpkm mean_B_rpkm fc_rpkm  \n",
       "ENSG00000223972 1.018014   -0.02575758 1.000000    1.023355    0.9771776\n",
       "ENSG00000227232 1.233370   -0.24954211 1.028688    1.267397    0.8116544\n",
       "ENSG00000278267 4.026953   -0.96969638 2.626953    4.568267    0.5750437\n",
       "ENSG00000268903 1.000000    0.06602323 1.076426    1.000000    1.0764256\n",
       "ENSG00000241860 1.000000    0.01925248 1.012234    1.000000    1.0122344\n",
       "ENSG00000279928 1.054832    0.02464223 1.066484    1.071091    0.9956993\n",
       "                log2_fc_rpkm DESeq DESeq_adj_pval DESeq2 DESeq2_adj_pval Limma\n",
       "ENSG00000223972 -0.033307329 FALSE 1              FALSE  1               FALSE\n",
       "ENSG00000227232 -0.301062466 FALSE 1              FALSE  1               FALSE\n",
       "ENSG00000278267 -0.798256599 FALSE 1              FALSE  1               FALSE\n",
       "ENSG00000268903  0.106248558 FALSE 1              FALSE  1               FALSE\n",
       "ENSG00000241860  0.017543404 FALSE 1              FALSE  1               FALSE\n",
       "ENSG00000279928 -0.006217947 FALSE 1              FALSE  1               FALSE\n",
       "                Limma_adj_pval EdgeR EdgeR_adj_pval\n",
       "ENSG00000223972 0.9874010      FALSE 1             \n",
       "ENSG00000227232 0.8208995      FALSE 1             \n",
       "ENSG00000278267 0.8894456      FALSE 1             \n",
       "ENSG00000268903 0.5106635      FALSE 1             \n",
       "ENSG00000241860 0.5106635      FALSE 1             \n",
       "ENSG00000279928 0.8894456      FALSE 1             "
      ]
     },
     "metadata": {},
     "output_type": "display_data"
    }
   ],
   "source": [
    "head(deg_res_sp1$DEGs$CoInfection_CMV_first_vs_SingleInfection_CMV_0h)"
   ]
  },
  {
   "cell_type": "code",
   "execution_count": 27,
   "metadata": {},
   "outputs": [
    {
     "data": {
      "text/html": [
       "'hsa04966 Collecting duct acid secretion'"
      ],
      "text/latex": [
       "'hsa04966 Collecting duct acid secretion'"
      ],
      "text/markdown": [
       "'hsa04966 Collecting duct acid secretion'"
      ],
      "text/plain": [
       "[1] \"hsa04966 Collecting duct acid secretion\""
      ]
     },
     "metadata": {},
     "output_type": "display_data"
    }
   ],
   "source": [
    "grep(\"lectin\", names(kegg.gs.ez$kg.sets), value = T)"
   ]
  },
  {
   "cell_type": "code",
   "execution_count": 8,
   "metadata": {},
   "outputs": [],
   "source": [
    "datDir <- \"../results/DEG_overlaps/\""
   ]
  },
  {
   "cell_type": "code",
   "execution_count": 9,
   "metadata": {},
   "outputs": [],
   "source": [
    "deg_res_sp1 <- readRDS(file.path(datDir, \"deg_res_sp1.rds\")) # DC"
   ]
  },
  {
   "cell_type": "code",
   "execution_count": 10,
   "metadata": {},
   "outputs": [
    {
     "data": {
      "text/html": [
       "<ol class=list-inline>\n",
       "\t<li>'CoInfection_CMV_first_vs_SingleInfection_CMV_0h'</li>\n",
       "\t<li>'CoInfection_CMV_first_vs_SingleInfection_Afu_4h30min'</li>\n",
       "\t<li>'CoInfection_vs_SingleInfection_CMV_0h'</li>\n",
       "\t<li>'CoInfection_vs_SingleInfection_Afu_0h'</li>\n",
       "\t<li>'CoInfection_Afu_first_vs_SingleInfection_CMV_2h'</li>\n",
       "\t<li>'CoInfection_Afu_first_vs_SingleInfection_Afu_0h'</li>\n",
       "\t<li>'CoInfection_CMV_first_vs_CoInfection'</li>\n",
       "\t<li>'CoInfection_Afu_first_vs_CoInfection'</li>\n",
       "\t<li>'Coinfection_Afu_first_vs_CoInfection_CMV_first'</li>\n",
       "\t<li>'SingleInfection_CMV_0h_vs_SingleCulture_DC'</li>\n",
       "\t<li>'SingleInfection_Afu_4h30min_vs_SingleCulture_DC'</li>\n",
       "\t<li>'SingleInfection_Afu_0h_vs_SingleCulture_DC'</li>\n",
       "\t<li>'SingleInfection_CMV_2h_vs_SingleCulture_DC'</li>\n",
       "\t<li>'CoInfection_CMV_first_vs_SingleCulture_DC'</li>\n",
       "\t<li>'CoInfection_vs_SingleCulture_DC'</li>\n",
       "\t<li>'CoInfection_Afu_first_vs_SingleCulture_DC'</li>\n",
       "</ol>\n"
      ],
      "text/latex": [
       "\\begin{enumerate*}\n",
       "\\item 'CoInfection\\_CMV\\_first\\_vs\\_SingleInfection\\_CMV\\_0h'\n",
       "\\item 'CoInfection\\_CMV\\_first\\_vs\\_SingleInfection\\_Afu\\_4h30min'\n",
       "\\item 'CoInfection\\_vs\\_SingleInfection\\_CMV\\_0h'\n",
       "\\item 'CoInfection\\_vs\\_SingleInfection\\_Afu\\_0h'\n",
       "\\item 'CoInfection\\_Afu\\_first\\_vs\\_SingleInfection\\_CMV\\_2h'\n",
       "\\item 'CoInfection\\_Afu\\_first\\_vs\\_SingleInfection\\_Afu\\_0h'\n",
       "\\item 'CoInfection\\_CMV\\_first\\_vs\\_CoInfection'\n",
       "\\item 'CoInfection\\_Afu\\_first\\_vs\\_CoInfection'\n",
       "\\item 'Coinfection\\_Afu\\_first\\_vs\\_CoInfection\\_CMV\\_first'\n",
       "\\item 'SingleInfection\\_CMV\\_0h\\_vs\\_SingleCulture\\_DC'\n",
       "\\item 'SingleInfection\\_Afu\\_4h30min\\_vs\\_SingleCulture\\_DC'\n",
       "\\item 'SingleInfection\\_Afu\\_0h\\_vs\\_SingleCulture\\_DC'\n",
       "\\item 'SingleInfection\\_CMV\\_2h\\_vs\\_SingleCulture\\_DC'\n",
       "\\item 'CoInfection\\_CMV\\_first\\_vs\\_SingleCulture\\_DC'\n",
       "\\item 'CoInfection\\_vs\\_SingleCulture\\_DC'\n",
       "\\item 'CoInfection\\_Afu\\_first\\_vs\\_SingleCulture\\_DC'\n",
       "\\end{enumerate*}\n"
      ],
      "text/markdown": [
       "1. 'CoInfection_CMV_first_vs_SingleInfection_CMV_0h'\n",
       "2. 'CoInfection_CMV_first_vs_SingleInfection_Afu_4h30min'\n",
       "3. 'CoInfection_vs_SingleInfection_CMV_0h'\n",
       "4. 'CoInfection_vs_SingleInfection_Afu_0h'\n",
       "5. 'CoInfection_Afu_first_vs_SingleInfection_CMV_2h'\n",
       "6. 'CoInfection_Afu_first_vs_SingleInfection_Afu_0h'\n",
       "7. 'CoInfection_CMV_first_vs_CoInfection'\n",
       "8. 'CoInfection_Afu_first_vs_CoInfection'\n",
       "9. 'Coinfection_Afu_first_vs_CoInfection_CMV_first'\n",
       "10. 'SingleInfection_CMV_0h_vs_SingleCulture_DC'\n",
       "11. 'SingleInfection_Afu_4h30min_vs_SingleCulture_DC'\n",
       "12. 'SingleInfection_Afu_0h_vs_SingleCulture_DC'\n",
       "13. 'SingleInfection_CMV_2h_vs_SingleCulture_DC'\n",
       "14. 'CoInfection_CMV_first_vs_SingleCulture_DC'\n",
       "15. 'CoInfection_vs_SingleCulture_DC'\n",
       "16. 'CoInfection_Afu_first_vs_SingleCulture_DC'\n",
       "\n",
       "\n"
      ],
      "text/plain": [
       " [1] \"CoInfection_CMV_first_vs_SingleInfection_CMV_0h\"     \n",
       " [2] \"CoInfection_CMV_first_vs_SingleInfection_Afu_4h30min\"\n",
       " [3] \"CoInfection_vs_SingleInfection_CMV_0h\"               \n",
       " [4] \"CoInfection_vs_SingleInfection_Afu_0h\"               \n",
       " [5] \"CoInfection_Afu_first_vs_SingleInfection_CMV_2h\"     \n",
       " [6] \"CoInfection_Afu_first_vs_SingleInfection_Afu_0h\"     \n",
       " [7] \"CoInfection_CMV_first_vs_CoInfection\"                \n",
       " [8] \"CoInfection_Afu_first_vs_CoInfection\"                \n",
       " [9] \"Coinfection_Afu_first_vs_CoInfection_CMV_first\"      \n",
       "[10] \"SingleInfection_CMV_0h_vs_SingleCulture_DC\"          \n",
       "[11] \"SingleInfection_Afu_4h30min_vs_SingleCulture_DC\"     \n",
       "[12] \"SingleInfection_Afu_0h_vs_SingleCulture_DC\"          \n",
       "[13] \"SingleInfection_CMV_2h_vs_SingleCulture_DC\"          \n",
       "[14] \"CoInfection_CMV_first_vs_SingleCulture_DC\"           \n",
       "[15] \"CoInfection_vs_SingleCulture_DC\"                     \n",
       "[16] \"CoInfection_Afu_first_vs_SingleCulture_DC\"           "
      ]
     },
     "metadata": {},
     "output_type": "display_data"
    }
   ],
   "source": [
    "names(deg_res_sp1$DEGs)"
   ]
  },
  {
   "cell_type": "code",
   "execution_count": 14,
   "metadata": {},
   "outputs": [],
   "source": [
    "# extract MRN fold change and stuff\n",
    "gene_lists <- llply(deg_res_sp1$DEGs, function(df) {\n",
    "    l <- df$log2_fc_mrn\n",
    "    names(l) <- rownames(df)\n",
    "    return(l)\n",
    "})"
   ]
  },
  {
   "cell_type": "code",
   "execution_count": null,
   "metadata": {
    "scrolled": true
   },
   "outputs": [],
   "source": []
  },
  {
   "cell_type": "code",
   "execution_count": null,
   "metadata": {},
   "outputs": [],
   "source": []
  },
  {
   "cell_type": "code",
   "execution_count": 67,
   "metadata": {},
   "outputs": [
    {
     "data": {
      "text/html": [
       "<ol class=list-inline>\n",
       "\t<li>'ACCNUM'</li>\n",
       "\t<li>'ALIAS'</li>\n",
       "\t<li>'ENSEMBL'</li>\n",
       "\t<li>'ENSEMBLPROT'</li>\n",
       "\t<li>'ENSEMBLTRANS'</li>\n",
       "\t<li>'ENTREZID'</li>\n",
       "\t<li>'ENZYME'</li>\n",
       "\t<li>'EVIDENCE'</li>\n",
       "\t<li>'EVIDENCEALL'</li>\n",
       "\t<li>'GENENAME'</li>\n",
       "\t<li>'GO'</li>\n",
       "\t<li>'GOALL'</li>\n",
       "\t<li>'IPI'</li>\n",
       "\t<li>'MAP'</li>\n",
       "\t<li>'OMIM'</li>\n",
       "\t<li>'ONTOLOGY'</li>\n",
       "\t<li>'ONTOLOGYALL'</li>\n",
       "\t<li>'PATH'</li>\n",
       "\t<li>'PFAM'</li>\n",
       "\t<li>'PMID'</li>\n",
       "\t<li>'PROSITE'</li>\n",
       "\t<li>'REFSEQ'</li>\n",
       "\t<li>'SYMBOL'</li>\n",
       "\t<li>'UCSCKG'</li>\n",
       "\t<li>'UNIGENE'</li>\n",
       "\t<li>'UNIPROT'</li>\n",
       "</ol>\n"
      ],
      "text/latex": [
       "\\begin{enumerate*}\n",
       "\\item 'ACCNUM'\n",
       "\\item 'ALIAS'\n",
       "\\item 'ENSEMBL'\n",
       "\\item 'ENSEMBLPROT'\n",
       "\\item 'ENSEMBLTRANS'\n",
       "\\item 'ENTREZID'\n",
       "\\item 'ENZYME'\n",
       "\\item 'EVIDENCE'\n",
       "\\item 'EVIDENCEALL'\n",
       "\\item 'GENENAME'\n",
       "\\item 'GO'\n",
       "\\item 'GOALL'\n",
       "\\item 'IPI'\n",
       "\\item 'MAP'\n",
       "\\item 'OMIM'\n",
       "\\item 'ONTOLOGY'\n",
       "\\item 'ONTOLOGYALL'\n",
       "\\item 'PATH'\n",
       "\\item 'PFAM'\n",
       "\\item 'PMID'\n",
       "\\item 'PROSITE'\n",
       "\\item 'REFSEQ'\n",
       "\\item 'SYMBOL'\n",
       "\\item 'UCSCKG'\n",
       "\\item 'UNIGENE'\n",
       "\\item 'UNIPROT'\n",
       "\\end{enumerate*}\n"
      ],
      "text/markdown": [
       "1. 'ACCNUM'\n",
       "2. 'ALIAS'\n",
       "3. 'ENSEMBL'\n",
       "4. 'ENSEMBLPROT'\n",
       "5. 'ENSEMBLTRANS'\n",
       "6. 'ENTREZID'\n",
       "7. 'ENZYME'\n",
       "8. 'EVIDENCE'\n",
       "9. 'EVIDENCEALL'\n",
       "10. 'GENENAME'\n",
       "11. 'GO'\n",
       "12. 'GOALL'\n",
       "13. 'IPI'\n",
       "14. 'MAP'\n",
       "15. 'OMIM'\n",
       "16. 'ONTOLOGY'\n",
       "17. 'ONTOLOGYALL'\n",
       "18. 'PATH'\n",
       "19. 'PFAM'\n",
       "20. 'PMID'\n",
       "21. 'PROSITE'\n",
       "22. 'REFSEQ'\n",
       "23. 'SYMBOL'\n",
       "24. 'UCSCKG'\n",
       "25. 'UNIGENE'\n",
       "26. 'UNIPROT'\n",
       "\n",
       "\n"
      ],
      "text/plain": [
       " [1] \"ACCNUM\"       \"ALIAS\"        \"ENSEMBL\"      \"ENSEMBLPROT\"  \"ENSEMBLTRANS\"\n",
       " [6] \"ENTREZID\"     \"ENZYME\"       \"EVIDENCE\"     \"EVIDENCEALL\"  \"GENENAME\"    \n",
       "[11] \"GO\"           \"GOALL\"        \"IPI\"          \"MAP\"          \"OMIM\"        \n",
       "[16] \"ONTOLOGY\"     \"ONTOLOGYALL\"  \"PATH\"         \"PFAM\"         \"PMID\"        \n",
       "[21] \"PROSITE\"      \"REFSEQ\"       \"SYMBOL\"       \"UCSCKG\"       \"UNIGENE\"     \n",
       "[26] \"UNIPROT\"     "
      ]
     },
     "metadata": {},
     "output_type": "display_data"
    }
   ],
   "source": [
    "columns(org.Hs.eg.db)"
   ]
  },
  {
   "cell_type": "code",
   "execution_count": 68,
   "metadata": {},
   "outputs": [],
   "source": [
    "query <- names(gene_lists$CoInfection_CMV_first_vs_SingleInfection_CMV_0h)[1:10]"
   ]
  },
  {
   "cell_type": "code",
   "execution_count": 70,
   "metadata": {},
   "outputs": [
    {
     "name": "stderr",
     "output_type": "stream",
     "text": [
      "'select()' returned 1:1 mapping between keys and columns\n"
     ]
    },
    {
     "data": {
      "text/html": [
       "<dl class=dl-horizontal>\n",
       "\t<dt>ENSG00000223972</dt>\n",
       "\t\t<dd>'100287102'</dd>\n",
       "\t<dt>ENSG00000227232</dt>\n",
       "\t\t<dd>NA</dd>\n",
       "\t<dt>ENSG00000278267</dt>\n",
       "\t\t<dd>'102466751'</dd>\n",
       "\t<dt>ENSG00000268903</dt>\n",
       "\t\t<dd>NA</dd>\n",
       "\t<dt>ENSG00000241860</dt>\n",
       "\t\t<dd>NA</dd>\n",
       "\t<dt>ENSG00000279928</dt>\n",
       "\t\t<dd>NA</dd>\n",
       "\t<dt>ENSG00000279457</dt>\n",
       "\t\t<dd>NA</dd>\n",
       "\t<dt>ENSG00000228463</dt>\n",
       "\t\t<dd>NA</dd>\n",
       "\t<dt>ENSG00000236679</dt>\n",
       "\t\t<dd>NA</dd>\n",
       "\t<dt>ENSG00000237094</dt>\n",
       "\t\t<dd>NA</dd>\n",
       "</dl>\n"
      ],
      "text/latex": [
       "\\begin{description*}\n",
       "\\item[ENSG00000223972] '100287102'\n",
       "\\item[ENSG00000227232] NA\n",
       "\\item[ENSG00000278267] '102466751'\n",
       "\\item[ENSG00000268903] NA\n",
       "\\item[ENSG00000241860] NA\n",
       "\\item[ENSG00000279928] NA\n",
       "\\item[ENSG00000279457] NA\n",
       "\\item[ENSG00000228463] NA\n",
       "\\item[ENSG00000236679] NA\n",
       "\\item[ENSG00000237094] NA\n",
       "\\end{description*}\n"
      ],
      "text/markdown": [
       "ENSG00000223972\n",
       ":   '100287102'ENSG00000227232\n",
       ":   NAENSG00000278267\n",
       ":   '102466751'ENSG00000268903\n",
       ":   NAENSG00000241860\n",
       ":   NAENSG00000279928\n",
       ":   NAENSG00000279457\n",
       ":   NAENSG00000228463\n",
       ":   NAENSG00000236679\n",
       ":   NAENSG00000237094\n",
       ":   NA\n",
       "\n"
      ],
      "text/plain": [
       "ENSG00000223972 ENSG00000227232 ENSG00000278267 ENSG00000268903 ENSG00000241860 \n",
       "    \"100287102\"              NA     \"102466751\"              NA              NA \n",
       "ENSG00000279928 ENSG00000279457 ENSG00000228463 ENSG00000236679 ENSG00000237094 \n",
       "             NA              NA              NA              NA              NA "
      ]
     },
     "metadata": {},
     "output_type": "display_data"
    }
   ],
   "source": [
    "enz_ids <- mapIds(org.Hs.eg.db, keys = query, keytype = \"ENSEMBL\", column = \"ENTREZID\")\n",
    "enz_ids"
   ]
  },
  {
   "cell_type": "code",
   "execution_count": null,
   "metadata": {},
   "outputs": [],
   "source": []
  },
  {
   "cell_type": "code",
   "execution_count": null,
   "metadata": {},
   "outputs": [],
   "source": []
  },
  {
   "cell_type": "code",
   "execution_count": null,
   "metadata": {},
   "outputs": [],
   "source": []
  },
  {
   "cell_type": "code",
   "execution_count": null,
   "metadata": {},
   "outputs": [],
   "source": []
  },
  {
   "cell_type": "code",
   "execution_count": 146,
   "metadata": {},
   "outputs": [],
   "source": [
    "select_genes_by_pathway <- function(pw, fc, map) {\n",
    "    if (length(pw) > 0) {\n",
    "        sig_map <- map[pw]\n",
    "        df <- ldply(sig_map, .id = \"pathway\", function(l) {\n",
    "            inds <- (fc %>% names) %in% l\n",
    "            return(data.frame(gene = names(fc)[inds], mrn_fc = fc[inds]))\n",
    "        })\n",
    "        df$gene <- mapIds(org.Hs.eg.db, keys = df$gene %>% as.character, keytype = \"ENTREZID\", column = \"SYMBOL\")\n",
    "        return(df)\n",
    "    } else\n",
    "        return(data.frame())\n",
    "}\n",
    "\n",
    "enrich_patchway_mrn <- function(gene_fc_list, same.dir = T) {\n",
    "    # convert to entrez gene ids\n",
    "    ens_ids <- gene_fc_list %>% names\n",
    "    enz_ids <- mapIds(org.Hs.eg.db, keys = ens_ids, keytype = \"ENSEMBL\", column = \"ENTREZID\")\n",
    "    keep <- !is.na(enz_ids)\n",
    "    gene_fc_list <- gene_fc_list[keep]\n",
    "    names(gene_fc_list) <- enz_ids[keep]\n",
    "    \n",
    "    # perform enrichment\n",
    "    fc.kegg.p <- gage(gene_fc_list, gsets = kegg.gs, ref = NULL, samp = NULL, same.dir = same.dir)\n",
    "    gr <- fc.kegg.p$greater %>% as.data.frame %>% mutate(pw_name = rownames(.)) %>% dplyr::select(pw_name, everything()) %>%\n",
    "        filter(q.val < 0.1 & !is.na(q.val))\n",
    "    grGenes <- select_genes_by_pathway(gr$pw_name, gene_fc_list, kegg.gs)\n",
    "    if (same.dir) {\n",
    "        le <- fc.kegg.p$less %>% as.data.frame %>% mutate(pw_name = rownames(.)) %>% dplyr::select(pw_name, everything()) %>% \n",
    "            filter(q.val < 0.1 & !is.na(q.val))\n",
    "        leGenes <- select_genes_by_pathway(le$pw_name, gene_fc_list, kegg.gs)\n",
    "        return(list(grS = gr, leS = le, grGenes = grGenes, leGenes = leGenes, gr = fc.kegg.p$greater, le = fc.kegg.p$less, stats = fc.kegg.p$stats))\n",
    "    } else\n",
    "        return(list(grS = gr, grGenes = grGenes, gr = fc.kegg.p$greater))\n",
    "}"
   ]
  },
  {
   "cell_type": "code",
   "execution_count": 154,
   "metadata": {},
   "outputs": [
    {
     "name": "stderr",
     "output_type": "stream",
     "text": [
      "'select()' returned 1:many mapping between keys and columns\n",
      "'select()' returned 1:1 mapping between keys and columns\n",
      "'select()' returned 1:many mapping between keys and columns\n",
      "'select()' returned 1:1 mapping between keys and columns\n",
      "'select()' returned 1:1 mapping between keys and columns\n",
      "'select()' returned 1:many mapping between keys and columns\n",
      "'select()' returned 1:1 mapping between keys and columns\n",
      "'select()' returned 1:1 mapping between keys and columns\n",
      "'select()' returned 1:many mapping between keys and columns\n",
      "'select()' returned 1:1 mapping between keys and columns\n",
      "'select()' returned 1:1 mapping between keys and columns\n",
      "'select()' returned 1:many mapping between keys and columns\n",
      "'select()' returned 1:1 mapping between keys and columns\n",
      "'select()' returned 1:many mapping between keys and columns\n",
      "'select()' returned 1:1 mapping between keys and columns\n",
      "'select()' returned 1:1 mapping between keys and columns\n",
      "'select()' returned 1:many mapping between keys and columns\n",
      "'select()' returned 1:1 mapping between keys and columns\n",
      "'select()' returned 1:many mapping between keys and columns\n",
      "'select()' returned 1:1 mapping between keys and columns\n",
      "'select()' returned 1:many mapping between keys and columns\n",
      "'select()' returned 1:1 mapping between keys and columns\n",
      "'select()' returned 1:many mapping between keys and columns\n",
      "'select()' returned 1:1 mapping between keys and columns\n",
      "'select()' returned 1:1 mapping between keys and columns\n",
      "'select()' returned 1:many mapping between keys and columns\n",
      "'select()' returned 1:1 mapping between keys and columns\n",
      "'select()' returned 1:many mapping between keys and columns\n",
      "'select()' returned 1:1 mapping between keys and columns\n",
      "'select()' returned 1:many mapping between keys and columns\n",
      "'select()' returned 1:1 mapping between keys and columns\n",
      "'select()' returned 1:1 mapping between keys and columns\n",
      "'select()' returned 1:many mapping between keys and columns\n",
      "'select()' returned 1:1 mapping between keys and columns\n",
      "'select()' returned 1:1 mapping between keys and columns\n",
      "'select()' returned 1:many mapping between keys and columns\n",
      "'select()' returned 1:1 mapping between keys and columns\n",
      "'select()' returned 1:1 mapping between keys and columns\n",
      "'select()' returned 1:many mapping between keys and columns\n",
      "'select()' returned 1:1 mapping between keys and columns\n",
      "'select()' returned 1:1 mapping between keys and columns\n"
     ]
    }
   ],
   "source": [
    "gage.kegg.dir <- lapply(gene_lists, function(l) enrich_patchway_mrn(l, T))"
   ]
  },
  {
   "cell_type": "code",
   "execution_count": null,
   "metadata": {},
   "outputs": [],
   "source": []
  },
  {
   "cell_type": "code",
   "execution_count": 155,
   "metadata": {},
   "outputs": [
    {
     "name": "stderr",
     "output_type": "stream",
     "text": [
      "'select()' returned 1:many mapping between keys and columns\n",
      "'select()' returned 1:1 mapping between keys and columns\n",
      "'select()' returned 1:many mapping between keys and columns\n",
      "'select()' returned 1:1 mapping between keys and columns\n",
      "'select()' returned 1:many mapping between keys and columns\n",
      "'select()' returned 1:1 mapping between keys and columns\n",
      "'select()' returned 1:many mapping between keys and columns\n",
      "'select()' returned 1:1 mapping between keys and columns\n",
      "'select()' returned 1:many mapping between keys and columns\n",
      "'select()' returned 1:1 mapping between keys and columns\n",
      "'select()' returned 1:many mapping between keys and columns\n",
      "'select()' returned 1:1 mapping between keys and columns\n",
      "'select()' returned 1:many mapping between keys and columns\n",
      "'select()' returned 1:many mapping between keys and columns\n",
      "'select()' returned 1:many mapping between keys and columns\n",
      "'select()' returned 1:1 mapping between keys and columns\n",
      "'select()' returned 1:many mapping between keys and columns\n",
      "'select()' returned 1:1 mapping between keys and columns\n",
      "'select()' returned 1:many mapping between keys and columns\n",
      "'select()' returned 1:1 mapping between keys and columns\n",
      "'select()' returned 1:many mapping between keys and columns\n",
      "'select()' returned 1:1 mapping between keys and columns\n",
      "'select()' returned 1:many mapping between keys and columns\n",
      "'select()' returned 1:1 mapping between keys and columns\n",
      "'select()' returned 1:many mapping between keys and columns\n",
      "'select()' returned 1:1 mapping between keys and columns\n",
      "'select()' returned 1:many mapping between keys and columns\n",
      "'select()' returned 1:1 mapping between keys and columns\n",
      "'select()' returned 1:many mapping between keys and columns\n",
      "'select()' returned 1:1 mapping between keys and columns\n"
     ]
    }
   ],
   "source": [
    "gage.kegg.both <- lapply(gene_lists, function(l) enrich_patchway_mrn(l, F))"
   ]
  },
  {
   "cell_type": "code",
   "execution_count": null,
   "metadata": {},
   "outputs": [],
   "source": []
  },
  {
   "cell_type": "code",
   "execution_count": 163,
   "metadata": {},
   "outputs": [],
   "source": [
    "dir.create(\"../results/GeneSetEnrichment/GAGE-DC/unidir\", recursive = T)\n",
    "dir.create(\"../results/GeneSetEnrichment/GAGE-DC/bidir\", recursive = T)"
   ]
  },
  {
   "cell_type": "code",
   "execution_count": null,
   "metadata": {},
   "outputs": [],
   "source": []
  },
  {
   "cell_type": "code",
   "execution_count": 164,
   "metadata": {},
   "outputs": [],
   "source": [
    "for (i in 1:length(gage.kegg.dir))\n",
    "    writexl::write_xlsx(sapply(gage.kegg.dir[[i]], function(x) x %>% as.data.frame %>% mutate(rownames = rownames(.)) %>% dplyr::select(rownames, everything())),\n",
    "                        paste0(\"../results/GeneSetEnrichment/GAGE-DC/unidir/gage.kegg.dir_\", names(gage.kegg.dir)[i], \".xlsx\"))"
   ]
  },
  {
   "cell_type": "code",
   "execution_count": 165,
   "metadata": {},
   "outputs": [],
   "source": [
    "for (i in 1:length(gage.kegg.dir))\n",
    "    writexl::write_xlsx(sapply(gage.kegg.both[[i]], function(x) x %>% as.data.frame %>% mutate(rownames = rownames(.)) %>% dplyr::select(rownames, everything())),\n",
    "                        paste0(\"../results/GeneSetEnrichment/GAGE-DC/bidir/gage.kegg.dir_\", names(gage.kegg.both)[i], \".xlsx\"))"
   ]
  },
  {
   "cell_type": "code",
   "execution_count": null,
   "metadata": {},
   "outputs": [],
   "source": []
  },
  {
   "cell_type": "code",
   "execution_count": null,
   "metadata": {},
   "outputs": [],
   "source": []
  },
  {
   "cell_type": "code",
   "execution_count": null,
   "metadata": {},
   "outputs": [],
   "source": []
  },
  {
   "cell_type": "code",
   "execution_count": null,
   "metadata": {},
   "outputs": [],
   "source": []
  },
  {
   "cell_type": "code",
   "execution_count": null,
   "metadata": {},
   "outputs": [],
   "source": []
  },
  {
   "cell_type": "code",
   "execution_count": null,
   "metadata": {},
   "outputs": [],
   "source": []
  }
 ],
 "metadata": {
  "kernelspec": {
   "display_name": "R",
   "language": "R",
   "name": "ir"
  },
  "language_info": {
   "codemirror_mode": "r",
   "file_extension": ".r",
   "mimetype": "text/x-r-source",
   "name": "R",
   "pygments_lexer": "r",
   "version": "3.6.3"
  },
  "latex_envs": {
   "LaTeX_envs_menu_present": true,
   "autoclose": false,
   "autocomplete": true,
   "bibliofile": "biblio.bib",
   "cite_by": "apalike",
   "current_citInitial": 1,
   "eqLabelWithNumbers": true,
   "eqNumInitial": 1,
   "hotkeys": {
    "equation": "Ctrl-E",
    "itemize": "Ctrl-I"
   },
   "labels_anchors": false,
   "latex_user_defs": false,
   "report_style_numbering": false,
   "user_envs_cfg": false
  },
  "toc": {
   "base_numbering": 1,
   "nav_menu": {},
   "number_sections": true,
   "sideBar": true,
   "skip_h1_title": false,
   "title_cell": "Table of Contents",
   "title_sidebar": "Contents",
   "toc_cell": false,
   "toc_position": {
    "height": "calc(100% - 180px)",
    "left": "10px",
    "top": "150px",
    "width": "464px"
   },
   "toc_section_display": true,
   "toc_window_display": true
  }
 },
 "nbformat": 4,
 "nbformat_minor": 2
}
